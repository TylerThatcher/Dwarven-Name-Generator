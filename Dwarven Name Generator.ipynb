{
 "cells": [
  {
   "cell_type": "code",
   "execution_count": 6,
   "metadata": {},
   "outputs": [],
   "source": [
    "def dwarven_name_generator():\n",
    "\n",
    "    print('Welcome to the Dwarven name generator')\n",
    "    firstname = input('What is your first name: ')\n",
    "\n",
    "    eng_char = list(firstname.lower())\n",
    "\n",
    "    if len(eng_char) > 4:\n",
    "\n",
    "        firstname_split_char = eng_char[::2]\n",
    "\n",
    "        firstname_split_string = ''.join(str(x) for x in firstname_split_char)\n",
    "\n",
    "        dwarf_firstname = firstname_split_string.replace('a', 'a').replace('b', 'ba').replace('c', 'ca').replace('d','du').replace('e','e').replace('f','thu').replace('g','gaz').replace('h','h').replace('i','i').replace('j','ju').replace('k','ku').replace('l','lo').replace('m','ma').replace('n','nu').replace('o','o').replace('p','p').replace('q','ka').replace('r','ru').replace('s','ss').replace('t','tul').replace('u','ur').replace('v','').replace('w','uv').replace('x','ax').replace('y','u').replace('z','az')\n",
    "\n",
    "        print('Your Dwarven name is:')\n",
    "        print(dwarf_firstname.capitalize())\n",
    "\n",
    "    else:\n",
    "\n",
    "        firstname_split_string = ''.join(str(x) for x in eng_char)\n",
    "\n",
    "        dwarf_firstname = firstname_split_string.replace('a', 'a').replace('b', 'ba').replace('c', 'ca').replace('d','du').replace('e','e').replace('f','thu').replace('g','gaz').replace('h','h').replace('i','i').replace('j','ju').replace('k','ku').replace('l','lo').replace('m','ma').replace('n','nu').replace('o','o').replace('p','p').replace('q','ka').replace('r','ru').replace('s','ss').replace('t','tul').replace('u','ur').replace('v','').replace('w','uv').replace('x','ax').replace('y','u').replace('z','az')\n",
    "\n",
    "        print('Your Dwarven name is:')\n",
    "        print(dwarf_firstname.capitalize())\n",
    "\n",
    "    surname_question = input('Would you like a surname? Y/N: ').lower().startswith('y')\n",
    "\n",
    "    if surname_question is False:\n",
    "        print('Goodbye')\n",
    "        \n",
    "    else:\n",
    "        \n",
    "        surname = input('What is your surname: ')\n",
    "        \n",
    "        eng_sur_char = list(surname.lower())\n",
    "\n",
    "        if len(eng_sur_char) > 4:\n",
    "\n",
    "            sur_split_char = eng_sur_char[::2]\n",
    "\n",
    "            sur_split_string = ''.join(str(x) for x in sur_split_char)\n",
    "\n",
    "            dwarf_surname = sur_split_string.replace('a', 'a').replace('b', 'ba').replace('c', 'ca').replace('d','du').replace('e','e').replace('f','thu').replace('g','gaz').replace('h','h').replace('i','i').replace('j','ju').replace('k','ku').replace('l','lo').replace('m','ma').replace('n','nu').replace('o','o').replace('p','p').replace('q','ka').replace('r','ru').replace('s','ss').replace('t','tul').replace('u','ur').replace('v','').replace('w','uv').replace('x','ax').replace('y','u').replace('z','az')\n",
    "\n",
    "            print('Your full Dwarven name is:')\n",
    "            print(dwarf_firstname.capitalize() + ' ' + dwarf_surname.capitalize())\n",
    "            \n",
    "        else:\n",
    "\n",
    "            sur_split_string = ''.join(str(x) for x in eng_sur_char)\n",
    "\n",
    "            dwarf_surname = sur_split_string.replace('a', 'a').replace('b', 'ba').replace('c', 'ca').replace('d','du').replace('e','e').replace('f','thu').replace('g','gaz').replace('h','h').replace('i','i').replace('j','ju').replace('k','ku').replace('l','lo').replace('m','ma').replace('n','nu').replace('o','o').replace('p','p').replace('q','ka').replace('r','ru').replace('s','ss').replace('t','tul').replace('u','ur').replace('v','').replace('w','uv').replace('x','ax').replace('y','u').replace('z','az')\n",
    "\n",
    "            print('Your full Dwarven name is:')\n",
    "            print(dwarf_firstname.capitalize() + ' ' + dwarf_surname.capitalize())"
   ]
  },
  {
   "cell_type": "code",
   "execution_count": null,
   "metadata": {},
   "outputs": [],
   "source": []
  },
  {
   "cell_type": "code",
   "execution_count": null,
   "metadata": {},
   "outputs": [],
   "source": []
  },
  {
   "cell_type": "code",
   "execution_count": null,
   "metadata": {},
   "outputs": [],
   "source": []
  },
  {
   "cell_type": "code",
   "execution_count": null,
   "metadata": {},
   "outputs": [],
   "source": []
  },
  {
   "cell_type": "code",
   "execution_count": 19,
   "metadata": {},
   "outputs": [
    {
     "name": "stdout",
     "output_type": "stream",
     "text": [
      "Welcome to the Dwarven name generator\n",
      "What is your first name: Michael\n",
      "Your Dwarven name is:\n",
      "Macaalo\n",
      "Would you like a surname? Y/N: Y\n",
      "What is your surname: Lyons\n",
      "Your full Dwarven name is:\n",
      "Macaalo Looss\n"
     ]
    }
   ],
   "source": [
    "dwarven_name_generator()"
   ]
  },
  {
   "cell_type": "code",
   "execution_count": null,
   "metadata": {},
   "outputs": [],
   "source": []
  },
  {
   "cell_type": "code",
   "execution_count": null,
   "metadata": {},
   "outputs": [],
   "source": []
  },
  {
   "cell_type": "code",
   "execution_count": null,
   "metadata": {},
   "outputs": [],
   "source": []
  },
  {
   "cell_type": "code",
   "execution_count": null,
   "metadata": {},
   "outputs": [],
   "source": []
  },
  {
   "cell_type": "code",
   "execution_count": null,
   "metadata": {},
   "outputs": [],
   "source": []
  },
  {
   "cell_type": "code",
   "execution_count": null,
   "metadata": {},
   "outputs": [],
   "source": []
  },
  {
   "cell_type": "code",
   "execution_count": 16,
   "metadata": {},
   "outputs": [
    {
     "ename": "NameError",
     "evalue": "name 'dwarf_surname' is not defined",
     "output_type": "error",
     "traceback": [
      "\u001b[1;31m---------------------------------------------------------------------------\u001b[0m",
      "\u001b[1;31mNameError\u001b[0m                                 Traceback (most recent call last)",
      "\u001b[1;32m<ipython-input-16-c4cfbcfe695a>\u001b[0m in \u001b[0;36m<module>\u001b[1;34m\u001b[0m\n\u001b[1;32m----> 1\u001b[1;33m \u001b[0mdwarf_surname\u001b[0m\u001b[1;33m\u001b[0m\u001b[1;33m\u001b[0m\u001b[0m\n\u001b[0m",
      "\u001b[1;31mNameError\u001b[0m: name 'dwarf_surname' is not defined"
     ]
    }
   ],
   "source": [
    "dwarf_surname"
   ]
  },
  {
   "cell_type": "code",
   "execution_count": null,
   "metadata": {},
   "outputs": [],
   "source": []
  },
  {
   "cell_type": "code",
   "execution_count": null,
   "metadata": {},
   "outputs": [],
   "source": []
  },
  {
   "cell_type": "code",
   "execution_count": null,
   "metadata": {},
   "outputs": [],
   "source": []
  },
  {
   "cell_type": "code",
   "execution_count": null,
   "metadata": {},
   "outputs": [],
   "source": []
  },
  {
   "cell_type": "code",
   "execution_count": null,
   "metadata": {},
   "outputs": [],
   "source": []
  },
  {
   "cell_type": "code",
   "execution_count": null,
   "metadata": {},
   "outputs": [],
   "source": []
  },
  {
   "cell_type": "code",
   "execution_count": null,
   "metadata": {},
   "outputs": [],
   "source": []
  },
  {
   "cell_type": "code",
   "execution_count": null,
   "metadata": {},
   "outputs": [],
   "source": []
  },
  {
   "cell_type": "code",
   "execution_count": null,
   "metadata": {},
   "outputs": [],
   "source": []
  },
  {
   "cell_type": "code",
   "execution_count": null,
   "metadata": {},
   "outputs": [],
   "source": []
  },
  {
   "cell_type": "code",
   "execution_count": null,
   "metadata": {},
   "outputs": [],
   "source": []
  },
  {
   "cell_type": "code",
   "execution_count": 77,
   "metadata": {},
   "outputs": [
    {
     "data": {
      "text/plain": [
       "'adurama'"
      ]
     },
     "execution_count": 77,
     "metadata": {},
     "output_type": "execute_result"
    }
   ],
   "source": [
    "dwarf_firstname"
   ]
  },
  {
   "cell_type": "code",
   "execution_count": null,
   "metadata": {},
   "outputs": [],
   "source": []
  },
  {
   "cell_type": "code",
   "execution_count": null,
   "metadata": {},
   "outputs": [],
   "source": []
  },
  {
   "cell_type": "code",
   "execution_count": null,
   "metadata": {},
   "outputs": [],
   "source": []
  },
  {
   "cell_type": "code",
   "execution_count": null,
   "metadata": {},
   "outputs": [],
   "source": []
  }
 ],
 "metadata": {
  "kernelspec": {
   "display_name": "Python 3",
   "language": "python",
   "name": "python3"
  },
  "language_info": {
   "codemirror_mode": {
    "name": "ipython",
    "version": 3
   },
   "file_extension": ".py",
   "mimetype": "text/x-python",
   "name": "python",
   "nbconvert_exporter": "python",
   "pygments_lexer": "ipython3",
   "version": "3.8.3"
  }
 },
 "nbformat": 4,
 "nbformat_minor": 4
}
